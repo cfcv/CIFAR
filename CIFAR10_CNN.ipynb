{
 "cells": [
  {
   "cell_type": "markdown",
   "metadata": {},
   "source": [
    "## Loading the dataset"
   ]
  },
  {
   "cell_type": "code",
   "execution_count": 6,
   "metadata": {},
   "outputs": [
    {
     "name": "stdout",
     "output_type": "stream",
     "text": [
      "Train: 50000\n",
      "Test: 10000\n"
     ]
    }
   ],
   "source": [
    "from keras.datasets import cifar10\n",
    "\n",
    "(x_train, y_train), (x_test, y_test) = cifar10.load_data()\n",
    "\n",
    "print('Train:', len(x_train))\n",
    "print('Test:', len(x_test))"
   ]
  },
  {
   "cell_type": "markdown",
   "metadata": {},
   "source": [
    "## Visualising the first 36 images "
   ]
  },
  {
   "cell_type": "code",
   "execution_count": 7,
   "metadata": {},
   "outputs": [],
   "source": [
    "import matplotlib.pyplot as plt\n",
    "import numpy as np\n",
    "\n",
    "fig = plt.figure(figsize=(20,5))\n",
    "for i in range(36):\n",
    "    ax = fig.add_subplot(3, 12, i+1, xticks=[], yticks=[])\n",
    "    ax.imshow(x_train[i])"
   ]
  },
  {
   "cell_type": "markdown",
   "metadata": {},
   "source": [
    "## Scale the values "
   ]
  },
  {
   "cell_type": "code",
   "execution_count": 8,
   "metadata": {},
   "outputs": [],
   "source": [
    "x_train = x_train.astype('float32') / 255\n",
    "x_test = x_test.astype('float32') / 255"
   ]
  },
  {
   "cell_type": "markdown",
   "metadata": {},
   "source": [
    "## Splitting the train set in: train set and validation set and one-hot encoding "
   ]
  },
  {
   "cell_type": "code",
   "execution_count": 9,
   "metadata": {},
   "outputs": [
    {
     "name": "stdout",
     "output_type": "stream",
     "text": [
      "Train samples: 45000\n",
      "Validation samples: 5000\n"
     ]
    }
   ],
   "source": [
    "from keras.utils import np_utils\n",
    "\n",
    "num_classes = len(np.unique(y_train))\n",
    "y_train = np_utils.to_categorical(y_train, num_classes)\n",
    "y_test = np_utils.to_categorical(y_test, num_classes)\n",
    "\n",
    "(x_train, x_valid) = x_train[5000:], x_train[:5000]\n",
    "(y_train, y_valid) = y_train[5000:], y_train[:5000]\n",
    "\n",
    "print('Train samples:', len(x_train))\n",
    "print('Validation samples:', len(y_valid))"
   ]
  },
  {
   "cell_type": "markdown",
   "metadata": {},
   "source": [
    "## Defining the model "
   ]
  },
  {
   "cell_type": "code",
   "execution_count": 2,
   "metadata": {},
   "outputs": [
    {
     "name": "stderr",
     "output_type": "stream",
     "text": [
      "Using TensorFlow backend.\n"
     ]
    },
    {
     "name": "stdout",
     "output_type": "stream",
     "text": [
      "_________________________________________________________________\n",
      "Layer (type)                 Output Shape              Param #   \n",
      "=================================================================\n",
      "conv2d_1 (Conv2D)            (None, 32, 32, 32)        896       \n",
      "_________________________________________________________________\n",
      "conv2d_2 (Conv2D)            (None, 32, 32, 32)        9248      \n",
      "_________________________________________________________________\n",
      "conv2d_3 (Conv2D)            (None, 32, 32, 32)        9248      \n",
      "_________________________________________________________________\n",
      "max_pooling2d_1 (MaxPooling2 (None, 16, 16, 32)        0         \n",
      "_________________________________________________________________\n",
      "conv2d_4 (Conv2D)            (None, 16, 16, 64)        18496     \n",
      "_________________________________________________________________\n",
      "conv2d_5 (Conv2D)            (None, 16, 16, 64)        36928     \n",
      "_________________________________________________________________\n",
      "max_pooling2d_2 (MaxPooling2 (None, 8, 8, 64)          0         \n",
      "_________________________________________________________________\n",
      "dropout_1 (Dropout)          (None, 8, 8, 64)          0         \n",
      "_________________________________________________________________\n",
      "flatten_1 (Flatten)          (None, 4096)              0         \n",
      "_________________________________________________________________\n",
      "dense_1 (Dense)              (None, 512)               2097664   \n",
      "_________________________________________________________________\n",
      "dropout_2 (Dropout)          (None, 512)               0         \n",
      "_________________________________________________________________\n",
      "dense_2 (Dense)              (None, 10)                5130      \n",
      "=================================================================\n",
      "Total params: 2,177,610\n",
      "Trainable params: 2,177,610\n",
      "Non-trainable params: 0\n",
      "_________________________________________________________________\n"
     ]
    }
   ],
   "source": [
    "from keras.models import Sequential\n",
    "from keras.layers import Conv2D, MaxPooling2D, Flatten, Dense, Dropout\n",
    "\n",
    "model = Sequential()\n",
    "model.add(Conv2D(filters=32, kernel_size=3, padding='same', activation='relu', input_shape=(32, 32, 3)))\n",
    "\n",
    "model.add(Conv2D(filters=32, kernel_size=3, padding='same', activation='relu'))\n",
    "\n",
    "model.add(Conv2D(filters=32, kernel_size=3, padding='same', activation='relu'))\n",
    "model.add(MaxPooling2D(pool_size=2))\n",
    "\n",
    "model.add(Conv2D(filters=64, kernel_size=3, padding='same', activation='relu'))\n",
    "\n",
    "model.add(Conv2D(filters=64, kernel_size=3, padding='same', activation='relu'))\n",
    "model.add(MaxPooling2D(pool_size=2))\n",
    "\n",
    "model.add(Dropout(0.3))\n",
    "model.add(Flatten())\n",
    "model.add(Dense(512, activation='relu'))\n",
    "model.add(Dropout(0.5))\n",
    "model.add(Dense(10, activation='softmax'))\n",
    "\n",
    "model.summary()"
   ]
  },
  {
   "cell_type": "markdown",
   "metadata": {},
   "source": [
    "## Compiling the model "
   ]
  },
  {
   "cell_type": "code",
   "execution_count": 3,
   "metadata": {},
   "outputs": [],
   "source": [
    "model.compile(loss='categorical_crossentropy', optimizer='rmsprop', metrics=['accuracy'])"
   ]
  },
  {
   "cell_type": "markdown",
   "metadata": {},
   "source": [
    "## Training the model  "
   ]
  },
  {
   "cell_type": "code",
   "execution_count": null,
   "metadata": {},
   "outputs": [
    {
     "name": "stdout",
     "output_type": "stream",
     "text": [
      "Train on 45000 samples, validate on 5000 samples\n",
      "Epoch 1/30\n",
      " - 457s - loss: 1.5483 - acc: 0.4454 - val_loss: 1.3908 - val_acc: 0.5206\n",
      "\n",
      "Epoch 00001: val_loss improved from inf to 1.39079, saving model to w_best_CNN.hdf5\n",
      "Epoch 2/30\n",
      " - 442s - loss: 1.1190 - acc: 0.6116 - val_loss: 1.1304 - val_acc: 0.6004\n",
      "\n",
      "Epoch 00002: val_loss improved from 1.39079 to 1.13042, saving model to w_best_CNN.hdf5\n",
      "Epoch 3/30\n",
      " - 410s - loss: 0.9677 - acc: 0.6690 - val_loss: 0.9832 - val_acc: 0.6602\n",
      "\n",
      "Epoch 00003: val_loss improved from 1.13042 to 0.98318, saving model to w_best_CNN.hdf5\n",
      "Epoch 4/30\n",
      " - 412s - loss: 0.9169 - acc: 0.6874 - val_loss: 1.1011 - val_acc: 0.6494\n",
      "\n",
      "Epoch 00004: val_loss did not improve from 0.98318\n",
      "Epoch 5/30\n",
      " - 410s - loss: 0.9057 - acc: 0.6994 - val_loss: 0.8923 - val_acc: 0.7116\n",
      "\n",
      "Epoch 00005: val_loss improved from 0.98318 to 0.89234, saving model to w_best_CNN.hdf5\n",
      "Epoch 6/30\n",
      " - 410s - loss: 0.9148 - acc: 0.7004 - val_loss: 0.9730 - val_acc: 0.6998\n",
      "\n",
      "Epoch 00006: val_loss did not improve from 0.89234\n",
      "Epoch 7/30\n",
      " - 409s - loss: 0.9432 - acc: 0.6944 - val_loss: 0.9607 - val_acc: 0.7092\n",
      "\n",
      "Epoch 00007: val_loss did not improve from 0.89234\n",
      "Epoch 8/30\n",
      " - 410s - loss: 0.9703 - acc: 0.6876 - val_loss: 0.9631 - val_acc: 0.6784\n",
      "\n",
      "Epoch 00008: val_loss did not improve from 0.89234\n",
      "Epoch 9/30\n",
      " - 409s - loss: 0.9921 - acc: 0.6822 - val_loss: 0.9909 - val_acc: 0.6696\n",
      "\n",
      "Epoch 00009: val_loss did not improve from 0.89234\n",
      "Epoch 10/30\n",
      " - 408s - loss: 1.0163 - acc: 0.6757 - val_loss: 0.9533 - val_acc: 0.6848\n",
      "\n",
      "Epoch 00010: val_loss did not improve from 0.89234\n",
      "Epoch 11/30\n",
      " - 413s - loss: 1.0445 - acc: 0.6677 - val_loss: 0.9629 - val_acc: 0.6942\n",
      "\n",
      "Epoch 00011: val_loss did not improve from 0.89234\n",
      "Epoch 12/30\n",
      " - 414s - loss: 1.0657 - acc: 0.6626 - val_loss: 0.9930 - val_acc: 0.6918\n",
      "\n",
      "Epoch 00012: val_loss did not improve from 0.89234\n",
      "Epoch 13/30\n",
      " - 414s - loss: 1.0958 - acc: 0.6577 - val_loss: 1.1299 - val_acc: 0.6752\n",
      "\n",
      "Epoch 00013: val_loss did not improve from 0.89234\n",
      "Epoch 14/30\n",
      " - 408s - loss: 1.1185 - acc: 0.6488 - val_loss: 1.8162 - val_acc: 0.5090\n",
      "\n",
      "Epoch 00014: val_loss did not improve from 0.89234\n",
      "Epoch 15/30\n",
      " - 411s - loss: 1.1529 - acc: 0.6355 - val_loss: 1.1157 - val_acc: 0.6392\n",
      "\n",
      "Epoch 00015: val_loss did not improve from 0.89234\n",
      "Epoch 16/30\n",
      " - 413s - loss: 1.1692 - acc: 0.6326 - val_loss: 1.4766 - val_acc: 0.5886\n",
      "\n",
      "Epoch 00016: val_loss did not improve from 0.89234\n",
      "Epoch 17/30\n",
      " - 410s - loss: 1.2082 - acc: 0.6249 - val_loss: 1.1014 - val_acc: 0.6846\n",
      "\n",
      "Epoch 00017: val_loss did not improve from 0.89234\n",
      "Epoch 18/30\n",
      " - 406s - loss: 1.2283 - acc: 0.6175 - val_loss: 1.0686 - val_acc: 0.6748\n",
      "\n",
      "Epoch 00018: val_loss did not improve from 0.89234\n",
      "Epoch 19/30\n",
      " - 406s - loss: 1.2544 - acc: 0.6073 - val_loss: 1.3025 - val_acc: 0.5772\n",
      "\n",
      "Epoch 00019: val_loss did not improve from 0.89234\n",
      "Epoch 20/30\n",
      " - 406s - loss: 1.2889 - acc: 0.5989 - val_loss: 1.2309 - val_acc: 0.6522\n",
      "\n",
      "Epoch 00020: val_loss did not improve from 0.89234\n",
      "Epoch 21/30\n",
      " - 412s - loss: 1.3343 - acc: 0.5828 - val_loss: 1.0946 - val_acc: 0.6814\n",
      "\n",
      "Epoch 00021: val_loss did not improve from 0.89234\n",
      "Epoch 22/30\n",
      " - 407s - loss: 1.3684 - acc: 0.5705 - val_loss: 1.3871 - val_acc: 0.5628\n",
      "\n",
      "Epoch 00022: val_loss did not improve from 0.89234\n",
      "Epoch 23/30\n",
      " - 407s - loss: 1.4039 - acc: 0.5567 - val_loss: 1.3001 - val_acc: 0.6116\n",
      "\n",
      "Epoch 00023: val_loss did not improve from 0.89234\n",
      "Epoch 24/30\n",
      " - 411s - loss: 1.4501 - acc: 0.5439 - val_loss: 1.1981 - val_acc: 0.6384\n",
      "\n",
      "Epoch 00024: val_loss did not improve from 0.89234\n",
      "Epoch 25/30\n",
      " - 412s - loss: 1.5075 - acc: 0.5250 - val_loss: 2.1354 - val_acc: 0.5640\n",
      "\n",
      "Epoch 00025: val_loss did not improve from 0.89234\n",
      "Epoch 26/30\n",
      " - 418s - loss: 1.5086 - acc: 0.5175 - val_loss: 1.4065 - val_acc: 0.5830\n",
      "\n",
      "Epoch 00026: val_loss did not improve from 0.89234\n",
      "Epoch 27/30\n"
     ]
    }
   ],
   "source": [
    "from keras.callbacks import ModelCheckpoint\n",
    "\n",
    "checkpointer = ModelCheckpoint(filepath='w_best_CNN.hdf5', save_best_only=True, verbose=1)\n",
    "\n",
    "model.fit(x_train, y_train, batch_size=32, epochs=30, validation_data=(x_valid, y_valid), callbacks=[checkpointer], verbose=2, shuffle=True)"
   ]
  },
  {
   "cell_type": "code",
   "execution_count": 10,
   "metadata": {},
   "outputs": [],
   "source": [
    "model.load_weights('w_best_CNN.hdf5')"
   ]
  },
  {
   "cell_type": "code",
   "execution_count": 11,
   "metadata": {},
   "outputs": [
    {
     "name": "stdout",
     "output_type": "stream",
     "text": [
      "0.7047\n"
     ]
    }
   ],
   "source": [
    "score = model.evaluate(x_test, y_test, verbose=0)\n",
    "print(score[1])"
   ]
  }
 ],
 "metadata": {
  "kernelspec": {
   "display_name": "Python 3",
   "language": "python",
   "name": "python3"
  },
  "language_info": {
   "codemirror_mode": {
    "name": "ipython",
    "version": 3
   },
   "file_extension": ".py",
   "mimetype": "text/x-python",
   "name": "python",
   "nbconvert_exporter": "python",
   "pygments_lexer": "ipython3",
   "version": "3.6.5"
  }
 },
 "nbformat": 4,
 "nbformat_minor": 2
}
